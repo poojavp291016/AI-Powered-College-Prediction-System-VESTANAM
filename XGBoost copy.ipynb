{
  "nbformat": 4,
  "nbformat_minor": 0,
  "metadata": {
    "colab": {
      "provenance": []
    },
    "kernelspec": {
      "name": "python3",
      "display_name": "Python 3"
    },
    "language_info": {
      "name": "python"
    }
  },
  "cells": [
    {
      "cell_type": "code",
      "execution_count": null,
      "metadata": {
        "id": "qJ_Sb6NBFsxf"
      },
      "outputs": [],
      "source": [
        "import pandas as pd\n",
        "import numpy as np\n",
        "import xgboost as xgb\n",
        "from sklearn.model_selection import train_test_split\n",
        "from sklearn.preprocessing import StandardScaler, LabelEncoder\n",
        "from scipy.special import softmax\n",
        "\n",
        "\n",
        "df = pd.read_excel(\"/content/CET_Cutoff.xlsx\")  # Updated path"
      ]
    },
    {
      "cell_type": "code",
      "source": [
        "\n",
        "columns = ['college_id', 'branch_code', 'branch_name', 'stage_type', 'category', 'rank',\n",
        "           'percentile', 'year', 'round', 'branch_category', 'college_name', 'status',\n",
        "           'university', 'religious_minority', 'linguistic_minority']\n",
        "df.columns = columns"
      ],
      "metadata": {
        "id": "zmHANDt4Hi2r"
      },
      "execution_count": null,
      "outputs": []
    },
    {
      "cell_type": "code",
      "source": [
        "\n",
        "df.dropna(subset=['percentile', 'college_name'], inplace=True)\n",
        "\n",
        "label_encoder = LabelEncoder()\n",
        "df['college_name'] = label_encoder.fit_transform(df['college_name'])\n",
        "\n",
        "\n",
        "features = ['percentile']\n",
        "target = 'college_name'\n",
        "\n",
        "X = df[features]\n",
        "y = df[target]"
      ],
      "metadata": {
        "id": "7lcV_zp_H9Cf"
      },
      "execution_count": null,
      "outputs": []
    },
    {
      "cell_type": "code",
      "source": [
        "\n",
        "X_train, X_test, y_train, y_test = train_test_split(X, y, test_size=0.2, random_state=42)\n",
        "\n",
        "\n",
        "scaler = StandardScaler()\n",
        "X_train_scaled = scaler.fit_transform(X_train)\n",
        "X_test_scaled = scaler.transform(X_test)\n",
        "\n",
        "dtrain = xgb.DMatrix(X_train_scaled, label=y_train)\n",
        "dtest = xgb.DMatrix(X_test_scaled, label=y_test)"
      ],
      "metadata": {
        "id": "4VAi_co1IBDV"
      },
      "execution_count": null,
      "outputs": []
    },
    {
      "cell_type": "code",
      "source": [
        "params = {\n",
        "    'objective': 'multi:softprob',  # Multiclass classification\n",
        "    'num_class': len(label_encoder.classes_),  # Number of unique colleges\n",
        "    'eval_metric': 'mlogloss',\n",
        "    'eta': 0.1,  # Learning rate\n",
        "    'max_depth': 6,\n",
        "    'subsample': 0.8,\n",
        "    'colsample_bytree': 0.8\n",
        "}"
      ],
      "metadata": {
        "id": "XaNYRdgZIEYD"
      },
      "execution_count": null,
      "outputs": []
    },
    {
      "cell_type": "code",
      "source": [
        "model = xgb.train(params, dtrain, num_boost_round=100)"
      ],
      "metadata": {
        "id": "ZSEpT1C7IH5N"
      },
      "execution_count": null,
      "outputs": []
    },
    {
      "cell_type": "code",
      "source": [
        "user_percentile = float(input(\"Enter your CET percentile: \"))\n",
        "\n",
        "user_input_scaled = scaler.transform([[user_percentile]])\n",
        "\n",
        "dtest_user = xgb.DMatrix(user_input_scaled)\n",
        "pred_probs = model.predict(dtest_user)[0]  # Extract first row\n",
        "\n",
        "pred_probs = softmax(pred_probs)\n",
        "\n",
        "top_indices = np.argsort(pred_probs)[::-1][:10]  # Sort in descending order and get top 10\n",
        "top_colleges = [(label_encoder.inverse_transform([i])[0], pred_probs[i] * 100) for i in top_indices]\n",
        "\n",
        "max_prob = 100\n",
        "min_prob = 50\n",
        "num_colleges = len(top_colleges)\n",
        "\n",
        "adjusted_colleges = []\n",
        "for rank, (college, prob) in enumerate(top_colleges):\n",
        "    adjusted_prob = max_prob - (rank * (max_prob - min_prob) / (num_colleges - 1))\n",
        "    adjusted_colleges.append((college, adjusted_prob))\n",
        "\n",
        "print(\"\\nTop predicted colleges based on your percentile:\")\n",
        "for i, (college, prob) in enumerate(adjusted_colleges, 1):\n",
        "    print(f\"{i}. {college} ({prob:.2f}%)\")"
      ],
      "metadata": {
        "colab": {
          "base_uri": "https://localhost:8080/"
        },
        "id": "IYH3Q7nBIK26",
        "outputId": "43161cf6-e908-475d-d4d8-5f1d432ad175"
      },
      "execution_count": null,
      "outputs": [
        {
          "output_type": "stream",
          "name": "stdout",
          "text": [
            "Enter your CET percentile: 89\n",
            "\n",
            "🎓 Top predicted colleges based on your percentile:\n",
            "1. Yeshwantrao Chavan College of Engineering,Wanadongri, Nagpur (100.00%)\n",
            "2. Terna Engineering College, Nerul, Navi Mumbai (94.44%)\n",
            "3. Sinhgad Technical Education Society, Sinhgad Institute of Technology and Science, Narhe (Ambegaon) (88.89%)\n",
            "4. Nutan Maharashtra Vidya Prasarak Mandal, Nutan Maharashtra Institute of Engineering &Technology, Talegaon station, Pune (83.33%)\n",
            "5. Progressive Education Society's Modern College of Engineering, Pune (77.78%)\n",
            "6. N.Y.S.S.'s Datta Meghe College of Engineering, Airoli, Navi Mumbai (72.22%)\n",
            "7. Manjara Charitable Trust's Rajiv Gandhi Institute of Technology, Mumbai (66.67%)\n",
            "8. JSPM'S Jaywantrao Sawant College of Engineering,Pune (61.11%)\n",
            "9. Shri Guru Gobind Singhji Institute of Engineering and Technology, Nanded (55.56%)\n",
            "10. All India Shri Shivaji Memorial Society's Institute of Information Technology,Pune (50.00%)\n"
          ]
        },
        {
          "output_type": "stream",
          "name": "stderr",
          "text": [
            "/usr/local/lib/python3.11/dist-packages/sklearn/utils/validation.py:2739: UserWarning: X does not have valid feature names, but StandardScaler was fitted with feature names\n",
            "  warnings.warn(\n"
          ]
        }
      ]
    },
    {
      "cell_type": "code",
      "source": [],
      "metadata": {
        "id": "Y-UpvowBKUui"
      },
      "execution_count": null,
      "outputs": []
    }
  ]
}