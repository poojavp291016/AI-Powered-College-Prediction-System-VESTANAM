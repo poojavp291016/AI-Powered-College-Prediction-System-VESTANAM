{
  "nbformat": 4,
  "nbformat_minor": 0,
  "metadata": {
    "colab": {
      "provenance": []
    },
    "kernelspec": {
      "name": "python3",
      "display_name": "Python 3"
    },
    "language_info": {
      "name": "python"
    }
  },
  "cells": [
    {
      "cell_type": "code",
      "execution_count": null,
      "metadata": {
        "id": "b4l2ko0M720_"
      },
      "outputs": [],
      "source": [
        "import pandas as pd\n",
        "import numpy as np\n",
        "import lightgbm as lgb\n",
        "from sklearn.model_selection import train_test_split\n",
        "from sklearn.preprocessing import LabelEncoder, StandardScaler\n",
        "import os"
      ]
    },
    {
      "cell_type": "code",
      "source": [
        "import pandas as pd\n",
        "\n",
        "file_path = \"/content/CET_Cutoff.xlsx\"\n",
        "df = pd.read_excel(file_path)\n",
        "\n",
        "print(df.head())"
      ],
      "metadata": {
        "colab": {
          "base_uri": "https://localhost:8080/"
        },
        "id": "RfIG_hTI8tg8",
        "outputId": "17277439-995a-49ae-84f8-a3cf7bfe34b1"
      },
      "execution_count": null,
      "outputs": [
        {
          "output_type": "stream",
          "name": "stdout",
          "text": [
            "   college_id branch_code               branch_name  \\\n",
            "0        4123   412300210  Aeronautical Engineering   \n",
            "1        4123   412300210  Aeronautical Engineering   \n",
            "2        4123   412300210  Aeronautical Engineering   \n",
            "3        4123   412300210  Aeronautical Engineering   \n",
            "4        4123   412300210  Aeronautical Engineering   \n",
            "\n",
            "                                          stage_type category   rank  \\\n",
            "0  Home University Seats Allotted to Home Univers...   GOPENH  59027   \n",
            "1  Home University Seats Allotted to Home Univers...   LOPENH  50662   \n",
            "2  Other Than Home University Seats Allotted to O...   GOPENO  38739   \n",
            "3  Other Than Home University Seats Allotted to O...   LOPENO  32586   \n",
            "4                                        State Level       MI  42483   \n",
            "\n",
            "   percentile  year  round branch_category  \\\n",
            "0   66.024812  2022      1          CETAE1   \n",
            "1   71.447047  2022      1          CETAE1   \n",
            "2   78.665707  2022      1          CETAE1   \n",
            "3   82.406958  2022      1          CETAE1   \n",
            "4   76.567514  2022      1          CETAE1   \n",
            "\n",
            "                                        college_name  \\\n",
            "0  Lokmanya Tilak Jankalyan Shikshan Sanstha, Pri...   \n",
            "1  Lokmanya Tilak Jankalyan Shikshan Sanstha, Pri...   \n",
            "2  Lokmanya Tilak Jankalyan Shikshan Sanstha, Pri...   \n",
            "3  Lokmanya Tilak Jankalyan Shikshan Sanstha, Pri...   \n",
            "4  Lokmanya Tilak Jankalyan Shikshan Sanstha, Pri...   \n",
            "\n",
            "                                              status            university  \\\n",
            "0  Un-Aided Autonomous Linguistic Minority - Hind...  Autonomous Institute   \n",
            "1  Un-Aided Autonomous Linguistic Minority - Hind...  Autonomous Institute   \n",
            "2  Un-Aided Autonomous Linguistic Minority - Hind...  Autonomous Institute   \n",
            "3  Un-Aided Autonomous Linguistic Minority - Hind...  Autonomous Institute   \n",
            "4  Un-Aided Autonomous Linguistic Minority - Hind...  Autonomous Institute   \n",
            "\n",
            "  religious_minority linguistic_minority  \n",
            "0                NaN               Hindi  \n",
            "1                NaN               Hindi  \n",
            "2                NaN               Hindi  \n",
            "3                NaN               Hindi  \n",
            "4                NaN               Hindi  \n"
          ]
        }
      ]
    },
    {
      "cell_type": "code",
      "source": [
        "import pandas as pd\n",
        "import numpy as np\n",
        "import lightgbm as lgb\n",
        "from sklearn.model_selection import train_test_split\n",
        "from sklearn.preprocessing import LabelEncoder, StandardScaler\n",
        "import os\n",
        "from google.colab import files\n",
        "\n",
        "if not os.path.exists(\"/content/CET_Cutoff.xlsx\"):\n",
        "    print(\"Please upload the file: CET_Cutoff.xlsx\")\n",
        "    uploaded = files.upload()  # Opens file upload dialog\n",
        "\n"
      ],
      "metadata": {
        "id": "pAzen_ok9MFw"
      },
      "execution_count": null,
      "outputs": []
    },
    {
      "cell_type": "code",
      "source": [
        "df = pd.read_excel(file_path)\n",
        "\n",
        "print(\"📌 Column Names in Dataset:\", df.columns.tolist())"
      ],
      "metadata": {
        "colab": {
          "base_uri": "https://localhost:8080/"
        },
        "id": "3lWmYQob-NiR",
        "outputId": "4de92c46-e96b-4b4f-e972-339d90cbd9c0"
      },
      "execution_count": null,
      "outputs": [
        {
          "output_type": "stream",
          "name": "stdout",
          "text": [
            "📌 Column Names in Dataset: ['college_id', 'branch_code', 'branch_name', 'stage_type', 'category', 'rank', 'percentile', 'year', 'round', 'branch_category', 'college_name', 'status', 'university', 'religious_minority', 'linguistic_minority']\n"
          ]
        }
      ]
    },
    {
      "cell_type": "code",
      "source": [
        "df = df.dropna()\n",
        "\n",
        "df = df[df[\"percentile\"].notnull()]\n",
        "\n",
        "label_encoder = LabelEncoder()\n",
        "df['college_encoded'] = label_encoder.fit_transform(df['college_name'])"
      ],
      "metadata": {
        "id": "QymJ_ajyAygo"
      },
      "execution_count": null,
      "outputs": []
    },
    {
      "cell_type": "code",
      "source": [
        "if \"percentile\" not in df.columns:\n",
        "    raise ValueError(\"Error: The dataset does not have a 'percentile' column! Check column names.\")\n",
        "\n",
        "df[\"percentile\"] = pd.to_numeric(df[\"percentile\"], errors='coerce')  # Convert to numeric (handles float)\n",
        "df = df.dropna(subset=[\"percentile\"])  # Remove NaN values"
      ],
      "metadata": {
        "id": "O2-PcNvjDbtv"
      },
      "execution_count": null,
      "outputs": []
    },
    {
      "cell_type": "code",
      "source": [
        "import pandas as pd\n",
        "\n",
        "file_path = \"/content/CET_Cutoff.xlsx\"\n",
        "df = pd.read_excel(file_path)\n",
        "\n",
        "print(\"🔍 First 10 values in the 'percentile' column before cleaning:\\n\", df[\"percentile\"].head(10))\n",
        "\n",
        "print(\"\\n🛑 Count of NaN values in 'percentile':\", df[\"percentile\"].isna().sum())\n",
        "\n",
        "print(\"\\n🔍 Data types in the dataset:\\n\", df.dtypes)"
      ],
      "metadata": {
        "colab": {
          "base_uri": "https://localhost:8080/"
        },
        "id": "4IoCmA8qDv4U",
        "outputId": "0d6ccb2f-3211-4ed6-9aee-240eb160b77f"
      },
      "execution_count": null,
      "outputs": [
        {
          "output_type": "stream",
          "name": "stdout",
          "text": [
            "🔍 First 10 values in the 'percentile' column before cleaning:\n",
            " 0    66.024812\n",
            "1    71.447047\n",
            "2    78.665707\n",
            "3    82.406958\n",
            "4    76.567514\n",
            "5    57.063856\n",
            "6    45.271811\n",
            "7    53.730279\n",
            "8    50.561478\n",
            "9    52.230104\n",
            "Name: percentile, dtype: float64\n",
            "\n",
            "🛑 Count of NaN values in 'percentile': 0\n",
            "\n",
            "🔍 Data types in the dataset:\n",
            " college_id               int64\n",
            "branch_code             object\n",
            "branch_name             object\n",
            "stage_type              object\n",
            "category                object\n",
            "rank                     int64\n",
            "percentile             float64\n",
            "year                     int64\n",
            "round                    int64\n",
            "branch_category         object\n",
            "college_name            object\n",
            "status                  object\n",
            "university              object\n",
            "religious_minority      object\n",
            "linguistic_minority     object\n",
            "dtype: object\n"
          ]
        }
      ]
    },
    {
      "cell_type": "code",
      "source": [
        "df[\"percentile\"] = pd.to_numeric(df[\"percentile\"], errors=\"coerce\")\n",
        "\n",
        "df = df.dropna(subset=[\"percentile\"])\n",
        "\n",
        "if df.empty:\n",
        "    raise ValueError(\"❌ ERROR: No valid 'percentile' values found after cleaning! Check if the column contains numeric values.\")"
      ],
      "metadata": {
        "id": "xZ_q1qNkD6Q-"
      },
      "execution_count": null,
      "outputs": []
    },
    {
      "cell_type": "code",
      "source": [
        "df[\"percentile\"] = pd.to_numeric(df[\"percentile\"], errors=\"coerce\")\n",
        "df = df.dropna(subset=[\"percentile\"])"
      ],
      "metadata": {
        "id": "Gm1mQHlzENmu"
      },
      "execution_count": null,
      "outputs": []
    },
    {
      "cell_type": "code",
      "source": [
        "label_encoder = LabelEncoder()\n",
        "df['college_encoded'] = label_encoder.fit_transform(df['college_name'])\n",
        "\n",
        "X = df[['percentile']]\n",
        "y = df['college_encoded']"
      ],
      "metadata": {
        "id": "Tf8CBjhDEZRi"
      },
      "execution_count": null,
      "outputs": []
    },
    {
      "cell_type": "code",
      "source": [
        "scaler = StandardScaler()\n",
        "X_scaled = scaler.fit_transform(X)\n",
        "\n",
        "X_train, X_test, y_train, y_test = train_test_split(X_scaled, y, test_size=0.2, random_state=42)\n",
        "\n",
        "lgb_train = lgb.Dataset(X_train, label=y_train)\n",
        "lgb_test = lgb.Dataset(X_test, label=y_test, reference=lgb_train)"
      ],
      "metadata": {
        "id": "husiRVBYEcbN"
      },
      "execution_count": null,
      "outputs": []
    },
    {
      "cell_type": "code",
      "source": [
        "params = {\n",
        "    'objective': 'multiclass',\n",
        "    'num_class': len(df['college_name'].unique()),\n",
        "    'metric': 'multi_logloss',\n",
        "    'boosting_type': 'gbdt',\n",
        "    'learning_rate': 0.1,\n",
        "    'num_leaves': 31,\n",
        "    'verbosity': -1\n",
        "}\n"
      ],
      "metadata": {
        "id": "X9rolPjREo5q"
      },
      "execution_count": null,
      "outputs": []
    },
    {
      "cell_type": "code",
      "source": [
        "model = lgb.train(params, lgb_train, num_boost_round=100, valid_sets=[lgb_test])"
      ],
      "metadata": {
        "id": "L2J1OSy1EzG2"
      },
      "execution_count": null,
      "outputs": []
    },
    {
      "cell_type": "code",
      "source": [
        "from scipy.special import softmax\n",
        "import numpy as np\n",
        "\n",
        "user_percentile = float(input(\"Enter your CET percentile: \"))\n",
        "\n",
        "user_input_scaled = scaler.transform([[user_percentile]])\n",
        "\n",
        "pred_probs = model.predict(user_input_scaled)[0]\n",
        "\n",
        "pred_probs = softmax(pred_probs)\n",
        "\n",
        "top_indices = np.argsort(pred_probs)[::-1]\n",
        "top_colleges = [(label_encoder.inverse_transform([i])[0], pred_probs[i] * 100) for i in top_indices[:10]]\n",
        "\n",
        "max_prob = 90\n",
        "min_prob = 50\n",
        "num_colleges = len(top_colleges)\n",
        "\n",
        "adjusted_colleges = []\n",
        "for rank, (college, prob) in enumerate(top_colleges):\n",
        "    adjusted_prob = max_prob - (rank * (max_prob - min_prob) / (num_colleges - 1))\n",
        "    adjusted_colleges.append((college, adjusted_prob))\n",
        "\n",
        "print(\"\\n Top predicted colleges based on your percentile:\")\n",
        "for i, (college, prob) in enumerate(adjusted_colleges, 1):\n",
        "    print(f\"{i}. {college} ({prob:.2f}%)\")"
      ],
      "metadata": {
        "colab": {
          "base_uri": "https://localhost:8080/"
        },
        "id": "K4yt4hGrIIVi",
        "outputId": "d04ae883-c723-4ca6-aa5e-7b800df900c4"
      },
      "execution_count": null,
      "outputs": [
        {
          "output_type": "stream",
          "name": "stdout",
          "text": [
            "Enter your CET percentile: 89\n",
            "\n",
            "🎓 Top predicted colleges based on your percentile:\n",
            "1. Yeshwantrao Chavan College of Engineering,Wanadongri, Nagpur (90.00%)\n",
            "2. Nutan Maharashtra Vidya Prasarak Mandal, Nutan Maharashtra Institute of Engineering &Technology, Talegaon station, Pune (85.56%)\n",
            "3. Sinhgad Technical Education Society, Sinhgad Institute of Technology and Science, Narhe (Ambegaon) (81.11%)\n",
            "4. Terna Engineering College, Nerul, Navi Mumbai (76.67%)\n",
            "5. Progressive Education Society's Modern College of Engineering, Pune (72.22%)\n",
            "6. N.Y.S.S.'s Datta Meghe College of Engineering, Airoli, Navi Mumbai (67.78%)\n",
            "7. Manjara Charitable Trust's Rajiv Gandhi Institute of Technology, Mumbai (63.33%)\n",
            "8. JSPM'S Jaywantrao Sawant College of Engineering,Pune (58.89%)\n",
            "9. Shri Guru Gobind Singhji Institute of Engineering and Technology, Nanded (54.44%)\n",
            "10. MIT Academy of Engineering,Alandi, Pune (50.00%)\n"
          ]
        },
        {
          "output_type": "stream",
          "name": "stderr",
          "text": [
            "/usr/local/lib/python3.11/dist-packages/sklearn/utils/validation.py:2739: UserWarning: X does not have valid feature names, but StandardScaler was fitted with feature names\n",
            "  warnings.warn(\n"
          ]
        }
      ]
    },
    {
      "cell_type": "code",
      "source": [],
      "metadata": {
        "id": "5bx3hZptIbGz"
      },
      "execution_count": null,
      "outputs": []
    }
  ]
}